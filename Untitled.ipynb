{
 "cells": [
  {
   "cell_type": "code",
   "execution_count": 1,
   "metadata": {},
   "outputs": [
    {
     "ename": "FileNotFoundError",
     "evalue": "[Errno 2] No such file or directory: 'mvc.lvm'",
     "output_type": "error",
     "traceback": [
      "\u001b[0;31m---------------------------------------------------------------------------\u001b[0m",
      "\u001b[0;31mFileNotFoundError\u001b[0m                         Traceback (most recent call last)",
      "\u001b[0;32m<ipython-input-1-d8ed111777b8>\u001b[0m in \u001b[0;36m<module>\u001b[0;34m\u001b[0m\n\u001b[1;32m     25\u001b[0m \u001b[0;34m\u001b[0m\u001b[0m\n\u001b[1;32m     26\u001b[0m \u001b[0;31m# read in force data\u001b[0m\u001b[0;34m\u001b[0m\u001b[0;34m\u001b[0m\u001b[0;34m\u001b[0m\u001b[0m\n\u001b[0;32m---> 27\u001b[0;31m \u001b[0minfile\u001b[0m \u001b[0;34m=\u001b[0m \u001b[0mopen\u001b[0m\u001b[0;34m(\u001b[0m\u001b[0;34m'mvc.lvm'\u001b[0m\u001b[0;34m,\u001b[0m \u001b[0;34m'r'\u001b[0m\u001b[0;34m)\u001b[0m\u001b[0;34m\u001b[0m\u001b[0;34m\u001b[0m\u001b[0m\n\u001b[0m\u001b[1;32m     28\u001b[0m \u001b[0mline\u001b[0m \u001b[0;34m=\u001b[0m \u001b[0minfile\u001b[0m\u001b[0;34m.\u001b[0m\u001b[0mreadlines\u001b[0m\u001b[0;34m(\u001b[0m\u001b[0;34m)\u001b[0m\u001b[0;34m[\u001b[0m\u001b[0;36m23\u001b[0m\u001b[0;34m:\u001b[0m\u001b[0;34m]\u001b[0m\u001b[0;34m\u001b[0m\u001b[0;34m\u001b[0m\u001b[0m\n\u001b[1;32m     29\u001b[0m \u001b[0minfile\u001b[0m\u001b[0;34m.\u001b[0m\u001b[0mclose\u001b[0m\u001b[0;34m(\u001b[0m\u001b[0;34m)\u001b[0m\u001b[0;34m\u001b[0m\u001b[0;34m\u001b[0m\u001b[0m\n",
      "\u001b[0;31mFileNotFoundError\u001b[0m: [Errno 2] No such file or directory: 'mvc.lvm'"
     ]
    }
   ],
   "source": [
    "import numpy as np\n",
    "import matplotlib.pyplot as plt\n",
    "from matplotlib.widgets import Cursor\n",
    "\n",
    "\n",
    "def select_mvc(data):\n",
    "    fig = plt.figure(figsize=(11, 7))\n",
    "    ax = fig.add_subplot(1, 1, 1)\n",
    "    ax.plot(data)\n",
    "    plt.ylabel('Force (V)')\n",
    "    plt.xlabel('Sample')\n",
    "    cursor = Cursor(ax, useblit=True, color='k', linewidth=1)\n",
    "    zoom_ok = False\n",
    "    print('\\nZoom or pan to view, \\npress spacebar when ready to click:\\n')\n",
    "    while not zoom_ok:\n",
    "        zoom_ok = plt.waitforbuttonpress()\n",
    "    print('Click once to select MVC force: ')\n",
    "    val = plt.ginput(1)\n",
    "    # print('Selected values: ', val)\n",
    "    plt.close()\n",
    "    open('index_mvc.txt', 'w').close()\n",
    "    with open('index_mvc.txt', 'a') as file:\n",
    "        file.write('index value\\n')\n",
    "        file.write(str(int(val[0][0])) + ' ' + str(val[0][1]) + '\\n')\n",
    "\n",
    "# read in force data\n",
    "infile = open('mvc.lvm', 'r')\n",
    "line = infile.readlines()[23:]\n",
    "infile.close()\n",
    "data = [row.strip().split(',') for row in line]\n",
    "force = np.array([float(row[1]) for row in data])\n",
    "\n",
    "# select the maximal force\n",
    "select_mvc(force)"
   ]
  },
  {
   "cell_type": "code",
   "execution_count": null,
   "metadata": {},
   "outputs": [],
   "source": []
  }
 ],
 "metadata": {
  "kernelspec": {
   "display_name": "Python 3",
   "language": "python",
   "name": "python3"
  },
  "language_info": {
   "codemirror_mode": {
    "name": "ipython",
    "version": 3
   },
   "file_extension": ".py",
   "mimetype": "text/x-python",
   "name": "python",
   "nbconvert_exporter": "python",
   "pygments_lexer": "ipython3",
   "version": "3.6.7"
  }
 },
 "nbformat": 4,
 "nbformat_minor": 2
}
